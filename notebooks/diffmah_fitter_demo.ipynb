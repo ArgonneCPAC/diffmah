{
 "cells": [
  {
   "cell_type": "code",
   "execution_count": null,
   "id": "historic-postcard",
   "metadata": {},
   "outputs": [],
   "source": [
    "%matplotlib inline"
   ]
  },
  {
   "cell_type": "markdown",
   "id": "manufactured-binary",
   "metadata": {},
   "source": [
    "# Demonstration of how to fit halo MAHs with the `diffmah` model"
   ]
  },
  {
   "cell_type": "markdown",
   "id": "indonesian-beginning",
   "metadata": {},
   "source": [
    "## Load a block of target data\n",
    "\n",
    "These data can be downloaded from the site hosting the project data. But in principle the fitting function should work main progenitors from any sim."
   ]
  },
  {
   "cell_type": "code",
   "execution_count": 71,
   "id": "varying-religion",
   "metadata": {},
   "outputs": [],
   "source": [
    "from load_mah_data import load_tng_data\n",
    "_ret = load_tng_data(data_drn=\"/Users/aphearin/work/DATA/diffmah_data\")\n",
    "halo_ids, log_mahs, tmpeaks, t_tng, log_mah_fit_min = _ret"
   ]
  },
  {
   "cell_type": "markdown",
   "id": "operating-referral",
   "metadata": {},
   "source": [
    "## Pick a particular example halo history to fit"
   ]
  },
  {
   "cell_type": "code",
   "execution_count": 72,
   "id": "dedicated-disabled",
   "metadata": {},
   "outputs": [],
   "source": [
    "from diffmah.fit_mah_helpers import get_loss_data_variable_mp_x0\n",
    "from diffmah.fit_mah_helpers import mse_loss_variable_mp_x0\n",
    "from diffmah.utils import jax_adam_wrapper\n",
    "\n",
    "itest = 0\n",
    "log_mah_sim = log_mahs[itest, :]\n",
    "tmpeak_sim = tmpeaks[itest]\n",
    "\n",
    "p_init, loss_data = get_loss_data_variable_mp_x0(t_tng, log_mah_sim, tmpeak_sim, log_mah_fit_min)"
   ]
  },
  {
   "cell_type": "markdown",
   "id": "functioning-confusion",
   "metadata": {},
   "source": [
    "## Use Adam to fit the MAH with the smooth model"
   ]
  },
  {
   "cell_type": "code",
   "execution_count": 73,
   "id": "blond-browser",
   "metadata": {},
   "outputs": [],
   "source": [
    "n_step = 300\n",
    "_res = jax_adam_wrapper(mse_loss_variable_mp_x0, p_init, loss_data, n_step, n_warmup=2)\n",
    "p_best, loss, loss_arr, params_arr, fit_terminates = _res"
   ]
  },
  {
   "cell_type": "markdown",
   "id": "liquid-embassy",
   "metadata": {},
   "source": [
    "## Inspect the loss curve to see if we're converged \n",
    "\n",
    "(or if fewer steps can be taken for faster fitting)"
   ]
  },
  {
   "cell_type": "code",
   "execution_count": 74,
   "id": "banned-technical",
   "metadata": {},
   "outputs": [
    {
     "data": {
      "image/png": "[encoded data removed]",
      "text/plain": [
       "<Figure size 432x288 with 1 Axes>"
      ]
     },
     "metadata": {
      "needs_background": "light"
     },
     "output_type": "display_data"
    }
   ],
   "source": [
    "fig, ax = plt.subplots(1, 1)\n",
    "__=ax.plot(np.log10(loss_arr))"
   ]
  },
  {
   "cell_type": "markdown",
   "id": "forward-beverage",
   "metadata": {},
   "source": [
    "## Grab the unbounded values of the best-fit parameters"
   ]
  },
  {
   "cell_type": "code",
   "execution_count": 75,
   "id": "cutting-recommendation",
   "metadata": {},
   "outputs": [],
   "source": [
    "logmp_fit, u_x0, u_early, u_dy = p_best\n",
    "logt_target, log_mah_target, logtmp, u_k = loss_data"
   ]
  },
  {
   "cell_type": "markdown",
   "id": "another-freedom",
   "metadata": {},
   "source": [
    "## Transform the unbounded parameters to the actual `diffmah` parameters"
   ]
  },
  {
   "cell_type": "code",
   "execution_count": 76,
   "id": "cognitive-macro",
   "metadata": {},
   "outputs": [],
   "source": [
    "from diffmah.individual_halo_assembly import _get_params_from_u_params\n",
    "x0, k, early, late = _get_params_from_u_params(u_x0, u_k, u_early, u_dy)"
   ]
  },
  {
   "cell_type": "markdown",
   "id": "instrumental-culture",
   "metadata": {},
   "source": [
    "## Calculate the MAH using the best-fit model"
   ]
  },
  {
   "cell_type": "code",
   "execution_count": 77,
   "id": "sixth-speed",
   "metadata": {},
   "outputs": [],
   "source": [
    "from diffmah.individual_halo_assembly import _calc_halo_history\n",
    "\n",
    "logt_fit = np.linspace(0, 1.15, 500)\n",
    "dmhdt_fit, log_mah_fit = _calc_halo_history(logt_fit, np.log10(tmpeaks[itest]), logmp_fit, x0, k, early, late)"
   ]
  },
  {
   "cell_type": "markdown",
   "id": "strong-release",
   "metadata": {},
   "source": [
    "## Compare the model to the simulated MAH"
   ]
  },
  {
   "cell_type": "code",
   "execution_count": 78,
   "id": "departmental-brooks",
   "metadata": {},
   "outputs": [
    {
     "data": {
      "image/png": "[encoded data removed]",
      "text/plain": [
       "<Figure size 432x288 with 1 Axes>"
      ]
     },
     "metadata": {
      "needs_background": "light"
     },
     "output_type": "display_data"
    }
   ],
   "source": [
    "fig, ax = plt.subplots(1, 1)\n",
    "__=ax.plot(logt_target, log_mah_target)\n",
    "__=ax.plot(logt_fit, log_mah_fit)"
   ]
  },
  {
   "cell_type": "markdown",
   "id": "aggressive-result",
   "metadata": {},
   "source": [
    "## Predicting histories for a collection of halos\n",
    "\n",
    "After running the fitter, you'll have a large block of MAH parameters for which you'll want to make history predictions. There's a separate kernel that handles this use case that should be a lot more efficient than repeatedly calling the single-halo kernel inside a long python loop. To demonstrate how this works, we'll just generate a bunch of random `diffmah` parameters within the expected bounds."
   ]
  },
  {
   "cell_type": "code",
   "execution_count": 79,
   "id": "located-trust",
   "metadata": {},
   "outputs": [],
   "source": [
    "from diffmah.individual_halo_assembly import _MAH_PARS, _MAH_BOUNDS\n",
    "\n",
    "n_halos = int(1e4)\n",
    "TODAY = 13.8\n",
    "tmpeak_arr = np.zeros(n_halos) + TODAY\n",
    "logmp_arr = np.zeros(n_halos) + 12.0\n",
    "mah_x0_arr = np.random.uniform(*_MAH_BOUNDS['mah_x0'], n_halos)\n",
    "mah_k_arr = np.zeros(n_halos) + _MAH_PARS['mah_k']\n",
    "mah_early_arr = np.random.uniform(*_MAH_BOUNDS['mah_early'], n_halos)\n"
   ]
  },
  {
   "cell_type": "markdown",
   "id": "lucky-interstate",
   "metadata": {},
   "source": [
    "Since the bounds on the late index depend on the early index, for this last parameter we'll generate a bunch of random values for the unbounded version instead and then call the bounding function to transform."
   ]
  },
  {
   "cell_type": "code",
   "execution_count": 80,
   "id": "devoted-elite",
   "metadata": {},
   "outputs": [],
   "source": [
    "from diffmah.individual_halo_assembly import _get_late_index\n",
    "\n",
    "mah_u_dy_arr = np.random.normal(loc=0, scale=1, size=n_halos)\n",
    "late_index_arr = _get_late_index(mah_u_dy_arr, mah_early_arr)"
   ]
  },
  {
   "cell_type": "code",
   "execution_count": 81,
   "id": "weird-ethiopia",
   "metadata": {},
   "outputs": [
    {
     "name": "stdout",
     "output_type": "stream",
     "text": [
      "(10000, 200)\n",
      "(10000, 200)\n"
     ]
    }
   ],
   "source": [
    "from diffmah.individual_halo_assembly import _calc_halo_history_vmap\n",
    "\n",
    "n_times = 200\n",
    "lgtarr = np.linspace(0, np.log10(TODAY), n_times)\n",
    "lgtmp_arr = np.log10(tmpeak_arr)\n",
    "dmhdt_arr, log_mah_arr = _calc_halo_history_vmap(\n",
    "    lgtarr, lgtmp_arr, logmp_arr, mah_x0_arr, mah_k_arr, mah_early_arr, late_index_arr)\n",
    "\n",
    "print(dmhdt_arr.shape)\n",
    "print(log_mah_arr.shape)"
   ]
  },
  {
   "cell_type": "code",
   "execution_count": 82,
   "id": "written-knife",
   "metadata": {},
   "outputs": [
    {
     "data": {
      "image/png": "[encoded data removed]",
      "text/plain": [
       "<Figure size 432x288 with 1 Axes>"
      ]
     },
     "metadata": {
      "needs_background": "light"
     },
     "output_type": "display_data"
    }
   ],
   "source": [
    "fig, ax = plt.subplots(1, 1)\n",
    "\n",
    "iplots = np.random.randint(0, n_halos, 10)\n",
    "for iran in iplots:\n",
    "    __=ax.plot(lgtarr, log_mah_arr[iran, :])"
   ]
  },
  {
   "cell_type": "code",
   "execution_count": null,
   "id": "direct-thriller",
   "metadata": {},
   "outputs": [],
   "source": []
  },
  {
   "cell_type": "code",
   "execution_count": null,
   "id": "postal-responsibility",
   "metadata": {},
   "outputs": [],
   "source": []
  }
 ],
 "metadata": {
  "kernelspec": {
   "display_name": "Python 3",
   "language": "python",
   "name": "python3"
  },
  "language_info": {
   "codemirror_mode": {
    "name": "ipython",
    "version": 3
   },
   "file_extension": ".py",
   "mimetype": "text/x-python",
   "name": "python",
   "nbconvert_exporter": "python",
   "pygments_lexer": "ipython3",
   "version": "3.8.8"
  }
 },
 "nbformat": 4,
 "nbformat_minor": 5
}
