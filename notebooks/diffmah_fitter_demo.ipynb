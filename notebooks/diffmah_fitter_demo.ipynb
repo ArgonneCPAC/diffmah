{
 "cells": [
  {
   "cell_type": "code",
   "execution_count": 1,
   "id": "historic-postcard",
   "metadata": {},
   "outputs": [],
   "source": [
    "%matplotlib inline"
   ]
  },
  {
   "cell_type": "markdown",
   "id": "manufactured-binary",
   "metadata": {},
   "source": [
    "# Demonstration of how to fit halo MAHs with the `diffmah` model\n",
    "\n",
    "This notebook illustrates a worked example of how to fit an individual halo MAH with the diffmah model. For a parallelized script, see `history_fitting_script.py`."
   ]
  },
  {
   "cell_type": "markdown",
   "id": "indonesian-beginning",
   "metadata": {},
   "source": [
    "## Load a block of target data\n",
    "\n",
    "These data can be downloaded from the site hosting the project data. But in principle the fitting function should work main progenitors from any sim."
   ]
  },
  {
   "cell_type": "code",
   "execution_count": 3,
   "id": "varying-religion",
   "metadata": {},
   "outputs": [],
   "source": [
    "from diffmah.load_mah_data import load_tng_data, TASSO\n",
    "_ret = load_tng_data(data_drn=TASSO)\n",
    "halo_ids, log_mahs, t_tng, log_mah_fit_min = _ret"
   ]
  },
  {
   "cell_type": "markdown",
   "id": "operating-referral",
   "metadata": {},
   "source": [
    "## Pick a particular example halo history to fit"
   ]
  },
  {
   "cell_type": "code",
   "execution_count": 6,
   "id": "dedicated-disabled",
   "metadata": {},
   "outputs": [],
   "source": [
    "from diffmah.fit_mah_helpers import get_loss_data\n",
    "from diffmah.fit_mah_helpers import log_mah_mse_loss_and_grads\n",
    "from diffmah.utils import jax_adam_wrapper\n",
    "\n",
    "itest = 0\n",
    "log_mah_sim = log_mahs[itest, :]\n",
    "\n",
    "p_init, loss_data = get_loss_data(t_tng, log_mah_sim, log_mah_fit_min)"
   ]
  },
  {
   "cell_type": "markdown",
   "id": "functioning-confusion",
   "metadata": {},
   "source": [
    "## Use Adam to fit the MAH with the smooth model"
   ]
  },
  {
   "cell_type": "code",
   "execution_count": 7,
   "id": "blond-browser",
   "metadata": {},
   "outputs": [],
   "source": [
    "n_step = 200\n",
    "_res = jax_adam_wrapper(log_mah_mse_loss_and_grads, p_init, loss_data, n_step, n_warmup=1)\n",
    "p_best, loss, loss_arr, params_arr, fit_terminates = _res"
   ]
  },
  {
   "cell_type": "markdown",
   "id": "liquid-embassy",
   "metadata": {},
   "source": [
    "## Inspect the loss curve to see if we're converged \n",
    "\n",
    "(or if fewer steps can be taken for faster fitting)"
   ]
  },
  {
   "cell_type": "code",
   "execution_count": 8,
   "id": "banned-technical",
   "metadata": {},
   "outputs": [
    {
     "data": {
      "image/png": "[encoded data removed]",
      "text/plain": [
       "<Figure size 432x288 with 1 Axes>"
      ]
     },
     "metadata": {
      "needs_background": "light"
     },
     "output_type": "display_data"
    }
   ],
   "source": [
    "fig, ax = plt.subplots(1, 1)\n",
    "__=ax.plot(np.log10(loss_arr))"
   ]
  },
  {
   "cell_type": "markdown",
   "id": "forward-beverage",
   "metadata": {},
   "source": [
    "## Grab the unbounded values of the best-fit parameters"
   ]
  },
  {
   "cell_type": "code",
   "execution_count": 9,
   "id": "cutting-recommendation",
   "metadata": {},
   "outputs": [],
   "source": [
    "logtc, ue, ul = p_best\n",
    "logt_target, log_mah_target, logtmp, k, logmp_fit = loss_data"
   ]
  },
  {
   "cell_type": "markdown",
   "id": "another-freedom",
   "metadata": {},
   "source": [
    "## Transform the unbounded parameters to the actual `diffmah` parameters"
   ]
  },
  {
   "cell_type": "code",
   "execution_count": 10,
   "id": "cognitive-macro",
   "metadata": {},
   "outputs": [],
   "source": [
    "from diffmah.individual_halo_assembly import _get_early_late\n",
    "early, late = _get_early_late(ue, ul)"
   ]
  },
  {
   "cell_type": "markdown",
   "id": "instrumental-culture",
   "metadata": {},
   "source": [
    "## Calculate the MAH using the best-fit model"
   ]
  },
  {
   "cell_type": "code",
   "execution_count": 11,
   "id": "sixth-speed",
   "metadata": {},
   "outputs": [],
   "source": [
    "from diffmah.individual_halo_assembly import _calc_halo_history\n",
    "\n",
    "tarr = np.linspace(0.75, 13.8, 500)\n",
    "lgtarr = np.log10(tarr)\n",
    "dmhdt_fit, log_mah_fit = _calc_halo_history(lgtarr, lgtarr[-1], logmp_fit, logtc, k, early, late)"
   ]
  },
  {
   "cell_type": "markdown",
   "id": "strong-release",
   "metadata": {},
   "source": [
    "## Compare the model to the simulated MAH"
   ]
  },
  {
   "cell_type": "code",
   "execution_count": 12,
   "id": "departmental-brooks",
   "metadata": {},
   "outputs": [
    {
     "data": {
      "image/png": "[encoded data removed]",
      "text/plain": [
       "<Figure size 432x288 with 1 Axes>"
      ]
     },
     "metadata": {
      "needs_background": "light"
     },
     "output_type": "display_data"
    }
   ],
   "source": [
    "fig, ax = plt.subplots(1, 1)\n",
    "__=ax.plot(logt_target, log_mah_target)\n",
    "__=ax.plot(lgtarr, log_mah_fit)"
   ]
  },
  {
   "cell_type": "code",
   "execution_count": null,
   "id": "direct-thriller",
   "metadata": {},
   "outputs": [],
   "source": []
  },
  {
   "cell_type": "code",
   "execution_count": null,
   "id": "postal-responsibility",
   "metadata": {},
   "outputs": [],
   "source": []
  }
 ],
 "metadata": {
  "kernelspec": {
   "display_name": "Python 3",
   "language": "python",
   "name": "python3"
  },
  "language_info": {
   "codemirror_mode": {
    "name": "ipython",
    "version": 3
   },
   "file_extension": ".py",
   "mimetype": "text/x-python",
   "name": "python",
   "nbconvert_exporter": "python",
   "pygments_lexer": "ipython3",
   "version": "3.8.8"
  }
 },
 "nbformat": 4,
 "nbformat_minor": 5
}
