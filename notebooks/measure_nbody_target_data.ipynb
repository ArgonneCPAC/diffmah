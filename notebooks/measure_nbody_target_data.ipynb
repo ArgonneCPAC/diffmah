{
 "cells": [
  {
   "cell_type": "code",
   "execution_count": 1,
   "id": "french-occupation",
   "metadata": {},
   "outputs": [],
   "source": [
    "%matplotlib inline"
   ]
  },
  {
   "cell_type": "code",
   "execution_count": 2,
   "id": "ideal-shipping",
   "metadata": {},
   "outputs": [
    {
     "name": "stderr",
     "output_type": "stream",
     "text": [
      "WARNING:absl:No GPU/TPU found, falling back to CPU. (Set TF_CPP_MIN_LOG_LEVEL=0 and rerun for more info.)\n"
     ]
    }
   ],
   "source": [
    "from load_published_fits import load_bolshoi, load_mdpl\n",
    "\n",
    "bpl_halos_fn = \"/Users/aphearin/work/DATA/diffmah_data/PUBLISHED_DATA/bpl_diffmah_cens.npy\"\n",
    "bpl_fits_fn = \"/Users/aphearin/work/DATA/diffmah_data/PUBLISHED_DATA/bpl_published_fits.h5\"\n",
    "mdpl_halos_fn = \"/Users/aphearin/work/DATA/diffmah_data/PUBLISHED_DATA/mdpl2_diffmah_cens.npy\"\n",
    "mdpl_fits_fn = \"/Users/aphearin/work/DATA/diffmah_data/PUBLISHED_DATA/mdpl_published_fits.h5\"\n",
    "\n",
    "bpl, t_b = load_bolshoi(bpl_fits_fn, bpl_halos_fn)\n",
    "mdpl, t_m = load_bolshoi(mdpl_fits_fn, mdpl_halos_fn)\n"
   ]
  },
  {
   "cell_type": "code",
   "execution_count": 3,
   "id": "artificial-blank",
   "metadata": {},
   "outputs": [],
   "source": [
    "import os\n",
    "OUTDIR = \"/Users/aphearin/work/repositories/python/diffmah/diffmah/tests/testing_data\""
   ]
  },
  {
   "cell_type": "markdown",
   "id": "bacterial-somalia",
   "metadata": {},
   "source": [
    "### Define abscissa of target times"
   ]
  },
  {
   "cell_type": "code",
   "execution_count": 4,
   "id": "unable-desert",
   "metadata": {},
   "outputs": [],
   "source": [
    "from diffmah.measure_mahs import get_clean_sample_mask, measure_target_data\n",
    "\n",
    "t_min, t_max = 1.5, 13.7\n",
    "t_target = np.linspace(t_min, t_max, 50)\n",
    "lgt_target = np.log10(t_target)\n",
    "np.save('nbody_target_data/nbody_t_target', t_target)\n",
    "np.savetxt(os.path.join(OUTDIR, 'nbody_t_target.dat'), t_target)"
   ]
  },
  {
   "cell_type": "markdown",
   "id": "consistent-discovery",
   "metadata": {},
   "source": [
    "Define a few constants for convenient plotting"
   ]
  },
  {
   "cell_type": "code",
   "execution_count": 5,
   "id": "focal-sixth",
   "metadata": {},
   "outputs": [],
   "source": [
    "nmax_to_scatter = 2_000\n",
    "\n",
    "xlims = -0.7, 1.4\n",
    "ylims = -3.4, 1.8\n"
   ]
  },
  {
   "cell_type": "markdown",
   "id": "charged-dimension",
   "metadata": {},
   "source": [
    "## $M_{\\rm peak}=10^{11.5}M_{\\odot}$"
   ]
  },
  {
   "cell_type": "code",
   "execution_count": 8,
   "id": "precise-money",
   "metadata": {},
   "outputs": [
    {
     "name": "stdout",
     "output_type": "stream",
     "text": [
      "n_early = 7875\n",
      "n_late = 13676\n"
     ]
    }
   ],
   "source": [
    "from astropy.table import Table\n",
    "lgmp_sample = 11.5\n",
    "\n",
    "halos, t = Table(bpl), t_b\n",
    "\n",
    "mmsk = np.abs(halos['logmp_fit']-lgmp_sample) < 0.02\n",
    "lgtc_msk = halos['mah_logtc'] < 0\n",
    "n_early = np.sum(mmsk&lgtc_msk)\n",
    "n_late = np.sum(mmsk&~lgtc_msk)\n",
    "print(\"n_early = {}\".format(n_early))\n",
    "print(\"n_late = {}\".format(n_late))\n",
    "\n",
    "it_min = np.argmin(np.abs(t-t_min))\n",
    "\n",
    "sample = halos[mmsk]\n",
    "indx = get_clean_sample_mask(sample['log_mah_fit'], lgmp_sample, it_min)\n",
    "sample2 = sample[indx]\n",
    "\n",
    "_targets = measure_target_data(\n",
    "    10**sample['log_mah_fit'], sample['dmhdt_fit'], np.log10(t), lgt_target, lgmp_sample)\n",
    "mean_mah, mean_log_mah, var_log_mah, mean_dmhdt, var_dmhdt = _targets\n",
    "\n",
    "outpat = 'nbody_logmp_{0:.2f}'.format(lgmp_sample)\n",
    "np.save('nbody_target_data/mean_log_mah_'+outpat, mean_log_mah)\n",
    "np.save('nbody_target_data/var_log_mah_'+outpat, var_log_mah)\n",
    "np.save('nbody_target_data/mean_dmhdt_'+outpat, mean_dmhdt)\n",
    "np.save('nbody_target_data/var_dmhdt_'+outpat, var_dmhdt)\n",
    "\n",
    "np.savetxt(os.path.join(OUTDIR, 'mean_log_mah_'+outpat+'.dat'), mean_log_mah)\n",
    "np.savetxt(os.path.join(OUTDIR, 'var_log_mah_'+outpat+'.dat'), var_log_mah)\n",
    "np.savetxt(os.path.join(OUTDIR, 'mean_dmhdt_'+outpat+'.dat'), mean_dmhdt)\n",
    "np.savetxt(os.path.join(OUTDIR, 'var_dmhdt_'+outpat+'.dat'), var_dmhdt)"
   ]
  },
  {
   "cell_type": "code",
   "execution_count": null,
   "id": "printable-earth",
   "metadata": {},
   "outputs": [],
   "source": []
  },
  {
   "cell_type": "code",
   "execution_count": 9,
   "id": "living-writing",
   "metadata": {},
   "outputs": [
    {
     "data": {
      "image/png": "[encoded data removed]",
      "text/plain": [
       "<Figure size 432x288 with 1 Axes>"
      ]
     },
     "metadata": {
      "needs_background": "light"
     },
     "output_type": "display_data"
    }
   ],
   "source": [
    "fig, ax = plt.subplots(1, 1)\n",
    "xlim = ax.set_xlim(0, 1.14)\n",
    "ylim = ax.set_ylim(9, lgmp_sample+0.5)\n",
    "\n",
    "ylo, yhi = mean_log_mah-np.sqrt(var_log_mah), mean_log_mah+np.sqrt(var_log_mah)\n",
    "__=ax.fill_between(lgt_target, ylo, yhi, color='lightgray', alpha=0.7)\n",
    "__=ax.plot(lgt_target, mean_log_mah)"
   ]
  },
  {
   "cell_type": "markdown",
   "id": "above-hobby",
   "metadata": {},
   "source": [
    "## $M_{\\rm peak}=10^{11.75}M_{\\odot}$"
   ]
  },
  {
   "cell_type": "code",
   "execution_count": 10,
   "id": "interstate-latter",
   "metadata": {},
   "outputs": [
    {
     "name": "stdout",
     "output_type": "stream",
     "text": [
      "n_early = 4382\n",
      "n_late = 9400\n",
      "Percentage of halos passing the cut = 96.4%\n"
     ]
    }
   ],
   "source": [
    "from astropy.table import Table\n",
    "lgmp_sample = 11.75\n",
    "\n",
    "halos, t = Table(bpl), t_b\n",
    "\n",
    "mmsk = np.abs(halos['logmp_fit']-lgmp_sample) < 0.02\n",
    "lgtc_msk = halos['mah_logtc'] < 0\n",
    "n_early = np.sum(mmsk&lgtc_msk)\n",
    "n_late = np.sum(mmsk&~lgtc_msk)\n",
    "print(\"n_early = {}\".format(n_early))\n",
    "print(\"n_late = {}\".format(n_late))\n",
    "\n",
    "it_min = np.argmin(np.abs(t-t_min))\n",
    "\n",
    "sample = halos[mmsk]\n",
    "indx = get_clean_sample_mask(sample['log_mah_fit'], lgmp_sample, it_min)\n",
    "sample2 = sample[indx]\n",
    "\n",
    "_targets = measure_target_data(\n",
    "    10**sample['log_mah_fit'], sample['dmhdt_fit'], np.log10(t), lgt_target, lgmp_sample)\n",
    "mean_mah, mean_log_mah, var_log_mah, mean_dmhdt, var_dmhdt = _targets\n",
    "\n",
    "_targets = measure_target_data(\n",
    "    10**sample2['log_mah_fit'], sample2['dmhdt_fit'], np.log10(t), lgt_target, lgmp_sample)\n",
    "mean_log_mah2, var_log_mah2 = _targets[1:3]\n",
    "\n",
    "print(\"Percentage of halos passing the cut = {0:.1f}%\".format(100*np.mean(indx)))\n",
    "\n",
    "outpat = 'nbody_logmp_{0:.2f}'.format(lgmp_sample)\n",
    "np.save('nbody_target_data/mean_log_mah_'+outpat, mean_log_mah)\n",
    "np.save('nbody_target_data/var_log_mah_'+outpat, var_log_mah)\n",
    "np.save('nbody_target_data/mean_dmhdt_'+outpat, mean_dmhdt)\n",
    "np.save('nbody_target_data/var_dmhdt_'+outpat, var_dmhdt)\n",
    "\n",
    "np.savetxt(os.path.join(OUTDIR, 'mean_log_mah_'+outpat+'.dat'), mean_log_mah)\n",
    "np.savetxt(os.path.join(OUTDIR, 'var_log_mah_'+outpat+'.dat'), var_log_mah)\n",
    "np.savetxt(os.path.join(OUTDIR, 'mean_dmhdt_'+outpat+'.dat'), mean_dmhdt)\n",
    "np.savetxt(os.path.join(OUTDIR, 'var_dmhdt_'+outpat+'.dat'), var_dmhdt)"
   ]
  },
  {
   "cell_type": "markdown",
   "id": "valid-mainstream",
   "metadata": {},
   "source": [
    "## $M_{\\rm peak}=10^{12}M_{\\odot}$"
   ]
  },
  {
   "cell_type": "code",
   "execution_count": 13,
   "id": "after-shade",
   "metadata": {},
   "outputs": [
    {
     "name": "stdout",
     "output_type": "stream",
     "text": [
      "n_early = 5852\n",
      "n_late = 14731\n",
      "Percentage of halos passing the cut = 96.6%\n"
     ]
    }
   ],
   "source": [
    "from astropy.table import Table\n",
    "lgmp_sample = 12.\n",
    "\n",
    "halos, t = Table(bpl), t_b\n",
    "\n",
    "mmsk = np.abs(halos['logmp_fit']-lgmp_sample) < 0.05\n",
    "lgtc_msk = halos['mah_logtc'] < 0\n",
    "n_early = np.sum(mmsk&lgtc_msk)\n",
    "n_late = np.sum(mmsk&~lgtc_msk)\n",
    "print(\"n_early = {}\".format(n_early))\n",
    "print(\"n_late = {}\".format(n_late))\n",
    "\n",
    "it_min = np.argmin(np.abs(t-t_min))\n",
    "\n",
    "sample = halos[mmsk]\n",
    "indx = get_clean_sample_mask(sample['log_mah_fit'], lgmp_sample, it_min)\n",
    "sample2 = sample[indx]\n",
    "\n",
    "_targets = measure_target_data(\n",
    "    10**sample['log_mah_fit'], sample['dmhdt_fit'], np.log10(t), lgt_target, lgmp_sample)\n",
    "mean_mah, mean_log_mah, var_log_mah, mean_dmhdt, var_dmhdt = _targets\n",
    "\n",
    "_targets = measure_target_data(\n",
    "    10**sample2['log_mah_fit'], sample2['dmhdt_fit'], np.log10(t), lgt_target, lgmp_sample)\n",
    "mean_log_mah2, var_log_mah2 = _targets[1:3]\n",
    "\n",
    "print(\"Percentage of halos passing the cut = {0:.1f}%\".format(100*np.mean(indx)))\n",
    "\n",
    "outpat = 'nbody_logmp_{0:.2f}'.format(lgmp_sample)\n",
    "np.save('nbody_target_data/mean_log_mah_'+outpat, mean_log_mah)\n",
    "np.save('nbody_target_data/var_log_mah_'+outpat, var_log_mah)\n",
    "np.save('nbody_target_data/mean_dmhdt_'+outpat, mean_dmhdt)\n",
    "np.save('nbody_target_data/var_dmhdt_'+outpat, var_dmhdt)\n",
    "\n",
    "np.savetxt(os.path.join(OUTDIR, 'mean_log_mah_'+outpat+'.dat'), mean_log_mah)\n",
    "np.savetxt(os.path.join(OUTDIR, 'var_log_mah_'+outpat+'.dat'), var_log_mah)\n",
    "np.savetxt(os.path.join(OUTDIR, 'mean_dmhdt_'+outpat+'.dat'), mean_dmhdt)\n",
    "np.savetxt(os.path.join(OUTDIR, 'var_dmhdt_'+outpat+'.dat'), var_dmhdt)"
   ]
  },
  {
   "cell_type": "markdown",
   "id": "outside-plate",
   "metadata": {},
   "source": [
    "## $M_{\\rm peak}=10^{12.25}M_{\\odot}$"
   ]
  },
  {
   "cell_type": "code",
   "execution_count": 14,
   "id": "animated-procedure",
   "metadata": {},
   "outputs": [
    {
     "name": "stdout",
     "output_type": "stream",
     "text": [
      "n_early = 3010\n",
      "n_late = 8989\n",
      "Percentage of halos passing the cut = 96.9%\n"
     ]
    }
   ],
   "source": [
    "from astropy.table import Table\n",
    "lgmp_sample = 12.25\n",
    "\n",
    "halos, t = Table(bpl), t_b\n",
    "\n",
    "mmsk = np.abs(halos['logmp_fit']-lgmp_sample) < 0.05\n",
    "lgtc_msk = halos['mah_logtc'] < 0\n",
    "n_early = np.sum(mmsk&lgtc_msk)\n",
    "n_late = np.sum(mmsk&~lgtc_msk)\n",
    "print(\"n_early = {}\".format(n_early))\n",
    "print(\"n_late = {}\".format(n_late))\n",
    "\n",
    "it_min = np.argmin(np.abs(t-t_min))\n",
    "\n",
    "sample = halos[mmsk]\n",
    "indx = get_clean_sample_mask(sample['log_mah_fit'], lgmp_sample, it_min)\n",
    "sample2 = sample[indx]\n",
    "\n",
    "_targets = measure_target_data(\n",
    "    10**sample['log_mah_fit'], sample['dmhdt_fit'], np.log10(t), lgt_target, lgmp_sample)\n",
    "mean_mah, mean_log_mah, var_log_mah, mean_dmhdt, var_dmhdt = _targets\n",
    "\n",
    "_targets = measure_target_data(\n",
    "    10**sample2['log_mah_fit'], sample2['dmhdt_fit'], np.log10(t), lgt_target, lgmp_sample)\n",
    "mean_log_mah2, var_log_mah2 = _targets[1:3]\n",
    "\n",
    "print(\"Percentage of halos passing the cut = {0:.1f}%\".format(100*np.mean(indx)))\n",
    "\n",
    "outpat = 'nbody_logmp_{0:.2f}'.format(lgmp_sample)\n",
    "np.save('nbody_target_data/mean_log_mah_'+outpat, mean_log_mah)\n",
    "np.save('nbody_target_data/var_log_mah_'+outpat, var_log_mah)\n",
    "np.save('nbody_target_data/mean_dmhdt_'+outpat, mean_dmhdt)\n",
    "np.save('nbody_target_data/var_dmhdt_'+outpat, var_dmhdt)\n",
    "\n",
    "np.savetxt(os.path.join(OUTDIR, 'mean_log_mah_'+outpat+'.dat'), mean_log_mah)\n",
    "np.savetxt(os.path.join(OUTDIR, 'var_log_mah_'+outpat+'.dat'), var_log_mah)\n",
    "np.savetxt(os.path.join(OUTDIR, 'mean_dmhdt_'+outpat+'.dat'), mean_dmhdt)\n",
    "np.savetxt(os.path.join(OUTDIR, 'var_dmhdt_'+outpat+'.dat'), var_dmhdt)"
   ]
  },
  {
   "cell_type": "markdown",
   "id": "complimentary-silly",
   "metadata": {},
   "source": [
    "## $M_{\\rm peak}=10^{12.5}M_{\\odot}$"
   ]
  },
  {
   "cell_type": "code",
   "execution_count": 15,
   "id": "embedded-bangkok",
   "metadata": {},
   "outputs": [
    {
     "name": "stdout",
     "output_type": "stream",
     "text": [
      "n_early = 3195\n",
      "n_late = 11604\n",
      "Percentage of halos passing the cut = 97.0%\n"
     ]
    }
   ],
   "source": [
    "from astropy.table import Table\n",
    "lgmp_sample = 12.5\n",
    "\n",
    "halos, t = Table(bpl), t_b\n",
    "\n",
    "mmsk = np.abs(halos['logmp_fit']-lgmp_sample) < 0.1\n",
    "lgtc_msk = halos['mah_logtc'] < 0\n",
    "n_early = np.sum(mmsk&lgtc_msk)\n",
    "n_late = np.sum(mmsk&~lgtc_msk)\n",
    "print(\"n_early = {}\".format(n_early))\n",
    "print(\"n_late = {}\".format(n_late))\n",
    "\n",
    "it_min = np.argmin(np.abs(t-t_min))\n",
    "\n",
    "sample = halos[mmsk]\n",
    "indx = get_clean_sample_mask(sample['log_mah_fit'], lgmp_sample, it_min)\n",
    "sample2 = sample[indx]\n",
    "\n",
    "_targets = measure_target_data(\n",
    "    10**sample['log_mah_fit'], sample['dmhdt_fit'], np.log10(t), lgt_target, lgmp_sample)\n",
    "mean_mah, mean_log_mah, var_log_mah, mean_dmhdt, var_dmhdt = _targets\n",
    "\n",
    "_targets = measure_target_data(\n",
    "    10**sample2['log_mah_fit'], sample2['dmhdt_fit'], np.log10(t), lgt_target, lgmp_sample)\n",
    "mean_log_mah2, var_log_mah2 = _targets[1:3]\n",
    "\n",
    "print(\"Percentage of halos passing the cut = {0:.1f}%\".format(100*np.mean(indx)))\n",
    "\n",
    "outpat = 'nbody_logmp_{0:.2f}'.format(lgmp_sample)\n",
    "np.save('nbody_target_data/mean_log_mah_'+outpat, mean_log_mah)\n",
    "np.save('nbody_target_data/var_log_mah_'+outpat, var_log_mah)\n",
    "np.save('nbody_target_data/mean_dmhdt_'+outpat, mean_dmhdt)\n",
    "np.save('nbody_target_data/var_dmhdt_'+outpat, var_dmhdt)\n",
    "\n",
    "np.savetxt(os.path.join(OUTDIR, 'mean_log_mah_'+outpat+'.dat'), mean_log_mah)\n",
    "np.savetxt(os.path.join(OUTDIR, 'var_log_mah_'+outpat+'.dat'), var_log_mah)\n",
    "np.savetxt(os.path.join(OUTDIR, 'mean_dmhdt_'+outpat+'.dat'), mean_dmhdt)\n",
    "np.savetxt(os.path.join(OUTDIR, 'var_dmhdt_'+outpat+'.dat'), var_dmhdt)"
   ]
  },
  {
   "cell_type": "markdown",
   "id": "selected-operation",
   "metadata": {},
   "source": [
    "## $M_{\\rm peak}=10^{12.75}M_{\\odot}$"
   ]
  },
  {
   "cell_type": "code",
   "execution_count": 16,
   "id": "apparent-length",
   "metadata": {},
   "outputs": [
    {
     "name": "stdout",
     "output_type": "stream",
     "text": [
      "n_early = 1594\n",
      "n_late = 7180\n",
      "Percentage of halos passing the cut = 97.2%\n"
     ]
    }
   ],
   "source": [
    "from astropy.table import Table\n",
    "lgmp_sample = 12.75\n",
    "\n",
    "halos, t = Table(bpl), t_b\n",
    "\n",
    "mmsk = np.abs(halos['logmp_fit']-lgmp_sample) < 0.1\n",
    "lgtc_msk = halos['mah_logtc'] < 0\n",
    "n_early = np.sum(mmsk&lgtc_msk)\n",
    "n_late = np.sum(mmsk&~lgtc_msk)\n",
    "print(\"n_early = {}\".format(n_early))\n",
    "print(\"n_late = {}\".format(n_late))\n",
    "\n",
    "it_min = np.argmin(np.abs(t-t_min))\n",
    "\n",
    "sample = halos[mmsk]\n",
    "indx = get_clean_sample_mask(sample['log_mah_fit'], lgmp_sample, it_min)\n",
    "sample2 = sample[indx]\n",
    "\n",
    "_targets = measure_target_data(\n",
    "    10**sample['log_mah_fit'], sample['dmhdt_fit'], np.log10(t), lgt_target, lgmp_sample)\n",
    "mean_mah, mean_log_mah, var_log_mah, mean_dmhdt, var_dmhdt = _targets\n",
    "\n",
    "_targets = measure_target_data(\n",
    "    10**sample2['log_mah_fit'], sample2['dmhdt_fit'], np.log10(t), lgt_target, lgmp_sample)\n",
    "mean_log_mah2, var_log_mah2 = _targets[1:3]\n",
    "\n",
    "print(\"Percentage of halos passing the cut = {0:.1f}%\".format(100*np.mean(indx)))\n",
    "\n",
    "outpat = 'nbody_logmp_{0:.2f}'.format(lgmp_sample)\n",
    "np.save('nbody_target_data/mean_log_mah_'+outpat, mean_log_mah)\n",
    "np.save('nbody_target_data/var_log_mah_'+outpat, var_log_mah)\n",
    "np.save('nbody_target_data/mean_dmhdt_'+outpat, mean_dmhdt)\n",
    "np.save('nbody_target_data/var_dmhdt_'+outpat, var_dmhdt)\n",
    "\n",
    "np.savetxt(os.path.join(OUTDIR, 'mean_log_mah_'+outpat+'.dat'), mean_log_mah)\n",
    "np.savetxt(os.path.join(OUTDIR, 'var_log_mah_'+outpat+'.dat'), var_log_mah)\n",
    "np.savetxt(os.path.join(OUTDIR, 'mean_dmhdt_'+outpat+'.dat'), mean_dmhdt)\n",
    "np.savetxt(os.path.join(OUTDIR, 'var_dmhdt_'+outpat+'.dat'), var_dmhdt)"
   ]
  },
  {
   "cell_type": "markdown",
   "id": "million-emerald",
   "metadata": {},
   "source": [
    "## $M_{\\rm peak}=10^{13}M_{\\odot}$"
   ]
  },
  {
   "cell_type": "code",
   "execution_count": 17,
   "id": "russian-details",
   "metadata": {},
   "outputs": [
    {
     "name": "stdout",
     "output_type": "stream",
     "text": [
      "n_early = 1148\n",
      "n_late = 6545\n",
      "Percentage of halos passing the cut = 97.0%\n"
     ]
    }
   ],
   "source": [
    "from astropy.table import Table\n",
    "lgmp_sample = 13.0\n",
    "\n",
    "halos, t = Table(bpl), t_b\n",
    "\n",
    "mmsk = np.abs(halos['logmp_fit']-lgmp_sample) < 0.15\n",
    "lgtc_msk = halos['mah_logtc'] < 0\n",
    "n_early = np.sum(mmsk&lgtc_msk)\n",
    "n_late = np.sum(mmsk&~lgtc_msk)\n",
    "print(\"n_early = {}\".format(n_early))\n",
    "print(\"n_late = {}\".format(n_late))\n",
    "\n",
    "it_min = np.argmin(np.abs(t-t_min))\n",
    "\n",
    "sample = halos[mmsk]\n",
    "indx = get_clean_sample_mask(sample['log_mah_fit'], lgmp_sample, it_min)\n",
    "sample2 = sample[indx]\n",
    "\n",
    "_targets = measure_target_data(\n",
    "    10**sample['log_mah_fit'], sample['dmhdt_fit'], np.log10(t), lgt_target, lgmp_sample)\n",
    "mean_mah, mean_log_mah, var_log_mah, mean_dmhdt, var_dmhdt = _targets\n",
    "\n",
    "_targets = measure_target_data(\n",
    "    10**sample2['log_mah_fit'], sample2['dmhdt_fit'], np.log10(t), lgt_target, lgmp_sample)\n",
    "mean_log_mah2, var_log_mah2 = _targets[1:3]\n",
    "\n",
    "print(\"Percentage of halos passing the cut = {0:.1f}%\".format(100*np.mean(indx)))\n",
    "\n",
    "outpat = 'nbody_logmp_{0:.2f}'.format(lgmp_sample)\n",
    "np.save('nbody_target_data/mean_log_mah_'+outpat, mean_log_mah)\n",
    "np.save('nbody_target_data/var_log_mah_'+outpat, var_log_mah)\n",
    "np.save('nbody_target_data/mean_dmhdt_'+outpat, mean_dmhdt)\n",
    "np.save('nbody_target_data/var_dmhdt_'+outpat, var_dmhdt)\n",
    "\n",
    "np.savetxt(os.path.join(OUTDIR, 'mean_log_mah_'+outpat+'.dat'), mean_log_mah)\n",
    "np.savetxt(os.path.join(OUTDIR, 'var_log_mah_'+outpat+'.dat'), var_log_mah)\n",
    "np.savetxt(os.path.join(OUTDIR, 'mean_dmhdt_'+outpat+'.dat'), mean_dmhdt)\n",
    "np.savetxt(os.path.join(OUTDIR, 'var_dmhdt_'+outpat+'.dat'), var_dmhdt)"
   ]
  },
  {
   "cell_type": "markdown",
   "id": "sufficient-assumption",
   "metadata": {},
   "source": [
    "## $M_{\\rm peak}=10^{13.25}M_{\\odot}$"
   ]
  },
  {
   "cell_type": "code",
   "execution_count": 18,
   "id": "polish-peeing",
   "metadata": {},
   "outputs": [
    {
     "name": "stdout",
     "output_type": "stream",
     "text": [
      "n_early = 1542\n",
      "n_late = 12837\n",
      "Percentage of halos passing the cut = 96.5%\n"
     ]
    }
   ],
   "source": [
    "from astropy.table import Table\n",
    "lgmp_sample = 13.25\n",
    "\n",
    "halos, t = Table(mdpl), t_m\n",
    "\n",
    "mmsk = np.abs(halos['logmp_fit']-lgmp_sample) < 0.05\n",
    "lgtc_msk = halos['mah_logtc'] < 0\n",
    "n_early = np.sum(mmsk&lgtc_msk)\n",
    "n_late = np.sum(mmsk&~lgtc_msk)\n",
    "print(\"n_early = {}\".format(n_early))\n",
    "print(\"n_late = {}\".format(n_late))\n",
    "\n",
    "it_min = np.argmin(np.abs(t-t_min))\n",
    "\n",
    "sample = halos[mmsk]\n",
    "indx = get_clean_sample_mask(sample['log_mah_fit'], lgmp_sample, it_min)\n",
    "sample2 = sample[indx]\n",
    "\n",
    "_targets = measure_target_data(\n",
    "    10**sample['log_mah_fit'], sample['dmhdt_fit'], np.log10(t), lgt_target, lgmp_sample)\n",
    "mean_mah, mean_log_mah, var_log_mah, mean_dmhdt, var_dmhdt = _targets\n",
    "\n",
    "_targets = measure_target_data(\n",
    "    10**sample2['log_mah_fit'], sample2['dmhdt_fit'], np.log10(t), lgt_target, lgmp_sample)\n",
    "mean_log_mah2, var_log_mah2 = _targets[1:3]\n",
    "\n",
    "print(\"Percentage of halos passing the cut = {0:.1f}%\".format(100*np.mean(indx)))\n",
    "\n",
    "outpat = 'nbody_logmp_{0:.2f}'.format(lgmp_sample)\n",
    "np.save('nbody_target_data/mean_log_mah_'+outpat, mean_log_mah)\n",
    "np.save('nbody_target_data/var_log_mah_'+outpat, var_log_mah)\n",
    "np.save('nbody_target_data/mean_dmhdt_'+outpat, mean_dmhdt)\n",
    "np.save('nbody_target_data/var_dmhdt_'+outpat, var_dmhdt)\n",
    "\n",
    "np.savetxt(os.path.join(OUTDIR, 'mean_log_mah_'+outpat+'.dat'), mean_log_mah)\n",
    "np.savetxt(os.path.join(OUTDIR, 'var_log_mah_'+outpat+'.dat'), var_log_mah)\n",
    "np.savetxt(os.path.join(OUTDIR, 'mean_dmhdt_'+outpat+'.dat'), mean_dmhdt)\n",
    "np.savetxt(os.path.join(OUTDIR, 'var_dmhdt_'+outpat+'.dat'), var_dmhdt)"
   ]
  },
  {
   "cell_type": "markdown",
   "id": "eight-keeping",
   "metadata": {},
   "source": [
    "## $M_{\\rm peak}=10^{13.5}M_{\\odot}$"
   ]
  },
  {
   "cell_type": "code",
   "execution_count": 19,
   "id": "fewer-paradise",
   "metadata": {},
   "outputs": [
    {
     "name": "stdout",
     "output_type": "stream",
     "text": [
      "n_early = 1187\n",
      "n_late = 12795\n",
      "Percentage of halos passing the cut = 96.8%\n"
     ]
    }
   ],
   "source": [
    "from astropy.table import Table\n",
    "lgmp_sample = 13.5\n",
    "\n",
    "halos, t = Table(mdpl), t_m\n",
    "\n",
    "mmsk = np.abs(halos['logmp_fit']-lgmp_sample) < 0.05\n",
    "lgtc_msk = halos['mah_logtc'] < 0\n",
    "n_early = np.sum(mmsk&lgtc_msk)\n",
    "n_late = np.sum(mmsk&~lgtc_msk)\n",
    "print(\"n_early = {}\".format(n_early))\n",
    "print(\"n_late = {}\".format(n_late))\n",
    "\n",
    "it_min = np.argmin(np.abs(t-t_min))\n",
    "\n",
    "sample = halos[mmsk]\n",
    "indx = get_clean_sample_mask(sample['log_mah_fit'], lgmp_sample, it_min)\n",
    "sample2 = sample[indx]\n",
    "\n",
    "_targets = measure_target_data(\n",
    "    10**sample['log_mah_fit'], sample['dmhdt_fit'], np.log10(t), lgt_target, lgmp_sample)\n",
    "mean_mah, mean_log_mah, var_log_mah, mean_dmhdt, var_dmhdt = _targets\n",
    "\n",
    "_targets = measure_target_data(\n",
    "    10**sample2['log_mah_fit'], sample2['dmhdt_fit'], np.log10(t), lgt_target, lgmp_sample)\n",
    "mean_log_mah2, var_log_mah2 = _targets[1:3]\n",
    "\n",
    "print(\"Percentage of halos passing the cut = {0:.1f}%\".format(100*np.mean(indx)))\n",
    "\n",
    "outpat = 'nbody_logmp_{0:.2f}'.format(lgmp_sample)\n",
    "np.save('nbody_target_data/mean_log_mah_'+outpat, mean_log_mah)\n",
    "np.save('nbody_target_data/var_log_mah_'+outpat, var_log_mah)\n",
    "np.save('nbody_target_data/mean_dmhdt_'+outpat, mean_dmhdt)\n",
    "np.save('nbody_target_data/var_dmhdt_'+outpat, var_dmhdt)\n",
    "\n",
    "np.savetxt(os.path.join(OUTDIR, 'mean_log_mah_'+outpat+'.dat'), mean_log_mah)\n",
    "np.savetxt(os.path.join(OUTDIR, 'var_log_mah_'+outpat+'.dat'), var_log_mah)\n",
    "np.savetxt(os.path.join(OUTDIR, 'mean_dmhdt_'+outpat+'.dat'), mean_dmhdt)\n",
    "np.savetxt(os.path.join(OUTDIR, 'var_dmhdt_'+outpat+'.dat'), var_dmhdt)"
   ]
  },
  {
   "cell_type": "markdown",
   "id": "elementary-angel",
   "metadata": {},
   "source": [
    "## $M_{\\rm peak}=10^{13.75}M_{\\odot}$"
   ]
  },
  {
   "cell_type": "code",
   "execution_count": 20,
   "id": "successful-finnish",
   "metadata": {},
   "outputs": [
    {
     "name": "stdout",
     "output_type": "stream",
     "text": [
      "n_early = 804\n",
      "n_late = 11619\n",
      "Percentage of halos passing the cut = 97.1%\n"
     ]
    }
   ],
   "source": [
    "from astropy.table import Table\n",
    "lgmp_sample = 13.75\n",
    "\n",
    "halos, t = Table(mdpl), t_m\n",
    "\n",
    "mmsk = np.abs(halos['logmp_fit']-lgmp_sample) < 0.05\n",
    "lgtc_msk = halos['mah_logtc'] < 0\n",
    "n_early = np.sum(mmsk&lgtc_msk)\n",
    "n_late = np.sum(mmsk&~lgtc_msk)\n",
    "print(\"n_early = {}\".format(n_early))\n",
    "print(\"n_late = {}\".format(n_late))\n",
    "\n",
    "it_min = np.argmin(np.abs(t-t_min))\n",
    "\n",
    "sample = halos[mmsk]\n",
    "indx = get_clean_sample_mask(sample['log_mah_fit'], lgmp_sample, it_min)\n",
    "sample2 = sample[indx]\n",
    "\n",
    "_targets = measure_target_data(\n",
    "    10**sample['log_mah_fit'], sample['dmhdt_fit'], np.log10(t), lgt_target, lgmp_sample)\n",
    "mean_mah, mean_log_mah, var_log_mah, mean_dmhdt, var_dmhdt = _targets\n",
    "\n",
    "_targets = measure_target_data(\n",
    "    10**sample2['log_mah_fit'], sample2['dmhdt_fit'], np.log10(t), lgt_target, lgmp_sample)\n",
    "mean_log_mah2, var_log_mah2 = _targets[1:3]\n",
    "\n",
    "print(\"Percentage of halos passing the cut = {0:.1f}%\".format(100*np.mean(indx)))\n",
    "\n",
    "outpat = 'nbody_logmp_{0:.2f}'.format(lgmp_sample)\n",
    "np.save('nbody_target_data/mean_log_mah_'+outpat, mean_log_mah)\n",
    "np.save('nbody_target_data/var_log_mah_'+outpat, var_log_mah)\n",
    "np.save('nbody_target_data/mean_dmhdt_'+outpat, mean_dmhdt)\n",
    "np.save('nbody_target_data/var_dmhdt_'+outpat, var_dmhdt)\n",
    "\n",
    "np.savetxt(os.path.join(OUTDIR, 'mean_log_mah_'+outpat+'.dat'), mean_log_mah)\n",
    "np.savetxt(os.path.join(OUTDIR, 'var_log_mah_'+outpat+'.dat'), var_log_mah)\n",
    "np.savetxt(os.path.join(OUTDIR, 'mean_dmhdt_'+outpat+'.dat'), mean_dmhdt)\n",
    "np.savetxt(os.path.join(OUTDIR, 'var_dmhdt_'+outpat+'.dat'), var_dmhdt)"
   ]
  },
  {
   "cell_type": "markdown",
   "id": "significant-vinyl",
   "metadata": {},
   "source": [
    "## $M_{\\rm peak}=10^{14}M_{\\odot}$"
   ]
  },
  {
   "cell_type": "code",
   "execution_count": 21,
   "id": "naked-panel",
   "metadata": {},
   "outputs": [
    {
     "name": "stdout",
     "output_type": "stream",
     "text": [
      "n_early = 841\n",
      "n_late = 17949\n",
      "Percentage of halos passing the cut = 97.2%\n"
     ]
    }
   ],
   "source": [
    "from astropy.table import Table\n",
    "lgmp_sample = 14.0\n",
    "\n",
    "halos, t = Table(mdpl), t_m\n",
    "\n",
    "mmsk = np.abs(halos['logmp_fit']-lgmp_sample) < 0.1\n",
    "lgtc_msk = halos['mah_logtc'] < 0\n",
    "n_early = np.sum(mmsk&lgtc_msk)\n",
    "n_late = np.sum(mmsk&~lgtc_msk)\n",
    "print(\"n_early = {}\".format(n_early))\n",
    "print(\"n_late = {}\".format(n_late))\n",
    "\n",
    "it_min = np.argmin(np.abs(t-t_min))\n",
    "\n",
    "sample = halos[mmsk]\n",
    "indx = get_clean_sample_mask(sample['log_mah_fit'], lgmp_sample, it_min)\n",
    "sample2 = sample[indx]\n",
    "\n",
    "_targets = measure_target_data(\n",
    "    10**sample['log_mah_fit'], sample['dmhdt_fit'], np.log10(t), lgt_target, lgmp_sample)\n",
    "mean_mah, mean_log_mah, var_log_mah, mean_dmhdt, var_dmhdt = _targets\n",
    "\n",
    "_targets = measure_target_data(\n",
    "    10**sample2['log_mah_fit'], sample2['dmhdt_fit'], np.log10(t), lgt_target, lgmp_sample)\n",
    "mean_log_mah2, var_log_mah2 = _targets[1:3]\n",
    "\n",
    "print(\"Percentage of halos passing the cut = {0:.1f}%\".format(100*np.mean(indx)))\n",
    "\n",
    "outpat = 'nbody_logmp_{0:.2f}'.format(lgmp_sample)\n",
    "np.save('nbody_target_data/mean_log_mah_'+outpat, mean_log_mah)\n",
    "np.save('nbody_target_data/var_log_mah_'+outpat, var_log_mah)\n",
    "np.save('nbody_target_data/mean_dmhdt_'+outpat, mean_dmhdt)\n",
    "np.save('nbody_target_data/var_dmhdt_'+outpat, var_dmhdt)\n",
    "\n",
    "np.savetxt(os.path.join(OUTDIR, 'mean_log_mah_'+outpat+'.dat'), mean_log_mah)\n",
    "np.savetxt(os.path.join(OUTDIR, 'var_log_mah_'+outpat+'.dat'), var_log_mah)\n",
    "np.savetxt(os.path.join(OUTDIR, 'mean_dmhdt_'+outpat+'.dat'), mean_dmhdt)\n",
    "np.savetxt(os.path.join(OUTDIR, 'var_dmhdt_'+outpat+'.dat'), var_dmhdt)"
   ]
  },
  {
   "cell_type": "markdown",
   "id": "undefined-prediction",
   "metadata": {},
   "source": [
    "## $M_{\\rm peak}=10^{14.25}M_{\\odot}$"
   ]
  },
  {
   "cell_type": "code",
   "execution_count": 22,
   "id": "material-aggregate",
   "metadata": {},
   "outputs": [
    {
     "name": "stdout",
     "output_type": "stream",
     "text": [
      "n_early = 334\n",
      "n_late = 11303\n",
      "Percentage of halos passing the cut = 97.2%\n"
     ]
    }
   ],
   "source": [
    "from astropy.table import Table\n",
    "lgmp_sample = 14.25\n",
    "\n",
    "halos, t = Table(mdpl), t_m\n",
    "\n",
    "mmsk = np.abs(halos['logmp_fit']-lgmp_sample) < 0.1\n",
    "lgtc_msk = halos['mah_logtc'] < 0\n",
    "n_early = np.sum(mmsk&lgtc_msk)\n",
    "n_late = np.sum(mmsk&~lgtc_msk)\n",
    "print(\"n_early = {}\".format(n_early))\n",
    "print(\"n_late = {}\".format(n_late))\n",
    "\n",
    "it_min = np.argmin(np.abs(t-t_min))\n",
    "\n",
    "sample = halos[mmsk]\n",
    "indx = get_clean_sample_mask(sample['log_mah_fit'], lgmp_sample, it_min)\n",
    "sample2 = sample[indx]\n",
    "\n",
    "_targets = measure_target_data(\n",
    "    10**sample['log_mah_fit'], sample['dmhdt_fit'], np.log10(t), lgt_target, lgmp_sample)\n",
    "mean_mah, mean_log_mah, var_log_mah, mean_dmhdt, var_dmhdt = _targets\n",
    "\n",
    "_targets = measure_target_data(\n",
    "    10**sample2['log_mah_fit'], sample2['dmhdt_fit'], np.log10(t), lgt_target, lgmp_sample)\n",
    "mean_log_mah2, var_log_mah2 = _targets[1:3]\n",
    "\n",
    "print(\"Percentage of halos passing the cut = {0:.1f}%\".format(100*np.mean(indx)))\n",
    "\n",
    "outpat = 'nbody_logmp_{0:.2f}'.format(lgmp_sample)\n",
    "np.save('nbody_target_data/mean_log_mah_'+outpat, mean_log_mah)\n",
    "np.save('nbody_target_data/var_log_mah_'+outpat, var_log_mah)\n",
    "np.save('nbody_target_data/mean_dmhdt_'+outpat, mean_dmhdt)\n",
    "np.save('nbody_target_data/var_dmhdt_'+outpat, var_dmhdt)\n",
    "\n",
    "np.savetxt(os.path.join(OUTDIR, 'mean_log_mah_'+outpat+'.dat'), mean_log_mah)\n",
    "np.savetxt(os.path.join(OUTDIR, 'var_log_mah_'+outpat+'.dat'), var_log_mah)\n",
    "np.savetxt(os.path.join(OUTDIR, 'mean_dmhdt_'+outpat+'.dat'), mean_dmhdt)\n",
    "np.savetxt(os.path.join(OUTDIR, 'var_dmhdt_'+outpat+'.dat'), var_dmhdt)"
   ]
  },
  {
   "cell_type": "markdown",
   "id": "organic-galaxy",
   "metadata": {},
   "source": [
    "## $M_{\\rm peak}=10^{14.5}M_{\\odot}$"
   ]
  },
  {
   "cell_type": "code",
   "execution_count": 23,
   "id": "stone-mixer",
   "metadata": {},
   "outputs": [
    {
     "name": "stdout",
     "output_type": "stream",
     "text": [
      "n_early = 83\n",
      "n_late = 5958\n",
      "Percentage of halos passing the cut = 97.8%\n"
     ]
    }
   ],
   "source": [
    "from astropy.table import Table\n",
    "lgmp_sample = 14.5\n",
    "\n",
    "halos, t = Table(mdpl), t_m\n",
    "\n",
    "mmsk = np.abs(halos['logmp_fit']-lgmp_sample) < 0.1\n",
    "lgtc_msk = halos['mah_logtc'] < 0\n",
    "n_early = np.sum(mmsk&lgtc_msk)\n",
    "n_late = np.sum(mmsk&~lgtc_msk)\n",
    "print(\"n_early = {}\".format(n_early))\n",
    "print(\"n_late = {}\".format(n_late))\n",
    "\n",
    "it_min = np.argmin(np.abs(t-t_min))\n",
    "\n",
    "sample = halos[mmsk]\n",
    "indx = get_clean_sample_mask(sample['log_mah_fit'], lgmp_sample, it_min)\n",
    "sample2 = sample[indx]\n",
    "\n",
    "_targets = measure_target_data(\n",
    "    10**sample['log_mah_fit'], sample['dmhdt_fit'], np.log10(t), lgt_target, lgmp_sample)\n",
    "mean_mah, mean_log_mah, var_log_mah, mean_dmhdt, var_dmhdt = _targets\n",
    "\n",
    "_targets = measure_target_data(\n",
    "    10**sample2['log_mah_fit'], sample2['dmhdt_fit'], np.log10(t), lgt_target, lgmp_sample)\n",
    "mean_log_mah2, var_log_mah2 = _targets[1:3]\n",
    "\n",
    "print(\"Percentage of halos passing the cut = {0:.1f}%\".format(100*np.mean(indx)))\n",
    "\n",
    "outpat = 'nbody_logmp_{0:.2f}'.format(lgmp_sample)\n",
    "np.save('nbody_target_data/mean_log_mah_'+outpat, mean_log_mah)\n",
    "np.save('nbody_target_data/var_log_mah_'+outpat, var_log_mah)\n",
    "np.save('nbody_target_data/mean_dmhdt_'+outpat, mean_dmhdt)\n",
    "np.save('nbody_target_data/var_dmhdt_'+outpat, var_dmhdt)\n",
    "\n",
    "np.savetxt(os.path.join(OUTDIR, 'mean_log_mah_'+outpat+'.dat'), mean_log_mah)\n",
    "np.savetxt(os.path.join(OUTDIR, 'var_log_mah_'+outpat+'.dat'), var_log_mah)\n",
    "np.savetxt(os.path.join(OUTDIR, 'mean_dmhdt_'+outpat+'.dat'), mean_dmhdt)\n",
    "np.savetxt(os.path.join(OUTDIR, 'var_dmhdt_'+outpat+'.dat'), var_dmhdt)"
   ]
  },
  {
   "cell_type": "code",
   "execution_count": null,
   "id": "derived-casino",
   "metadata": {},
   "outputs": [],
   "source": []
  },
  {
   "cell_type": "code",
   "execution_count": 25,
   "id": "casual-collectible",
   "metadata": {},
   "outputs": [],
   "source": [
    "pat_list = list(('11.50', '11.75', '12.00', '12.25', '12.50', '12.75', '13.00',\n",
    "                '13.25', '13.50', '13.75', '14.00', '14.25', '14.50'))\n",
    "t_target = np.load(\"nbody_target_data/nbody_t_target.npy\")\n",
    "lgt_target = np.log10(t_target)\n",
    "mean_log_mah_targets = np.array(\n",
    "    [np.load('nbody_target_data/mean_log_mah_nbody_logmp_{}.npy'.format(lgmpat)) for lgmpat in pat_list])\n",
    "var_log_mah_targets = np.array(\n",
    "    [np.load('nbody_target_data/var_log_mah_nbody_logmp_{}.npy'.format(lgmpat)) for lgmpat in pat_list])\n",
    "\n",
    "mean_dmhdt_targets = np.array(\n",
    "    [np.load('nbody_target_data/mean_dmhdt_nbody_logmp_{}.npy'.format(lgmpat)) for lgmpat in pat_list])\n",
    "var_dmhdt_targets = np.array(\n",
    "    [np.load('nbody_target_data/var_dmhdt_nbody_logmp_{}.npy'.format(lgmpat)) for lgmpat in pat_list])\n",
    "\n",
    "lgmp_targets = np.array([float(lgm) for lgm in pat_list])\n"
   ]
  },
  {
   "cell_type": "code",
   "execution_count": null,
   "id": "pointed-jefferson",
   "metadata": {},
   "outputs": [],
   "source": []
  },
  {
   "cell_type": "code",
   "execution_count": 28,
   "id": "solar-disease",
   "metadata": {},
   "outputs": [
    {
     "data": {
      "image/png": "[encoded data removed]",
      "text/plain": [
       "<Figure size 432x720 with 2 Axes>"
      ]
     },
     "metadata": {
      "needs_background": "light"
     },
     "output_type": "display_data"
    }
   ],
   "source": [
    "import matplotlib.cm as cm\n",
    "from matplotlib import ticker\n",
    "from matplotlib import lines as mlines\n",
    "\n",
    "colormap_seq=np.linspace(0, 1, lgmp_targets.size)\n",
    "colors=cm.coolwarm(colormap_seq)\n",
    "\n",
    "fig, (ax0, ax1) = plt.subplots(2, 1, figsize=(6, 10), sharex=True)\n",
    "fig.subplots_adjust(hspace=0)\n",
    "\n",
    "xlim = ax0.set_xlim(1.5, 13.8)\n",
    "\n",
    "__=ax0.loglog()\n",
    "__=ax1.loglog()\n",
    "for i in range(len(lgmp_targets)):\n",
    "    __=ax0.plot(t_target, 10**mean_log_mah_targets[i, :], c=colors[i])\n",
    "    __=ax1.plot(t_target, mean_dmhdt_targets[i, :], c=colors[i])\n",
    "\n",
    "_xticks=ax0.set_xticks((2, 3, 5, 10))\n",
    "__=ax0.get_xaxis().set_major_formatter(ticker.ScalarFormatter())\n",
    "__=ax0.get_xaxis().set_minor_formatter(ticker.NullFormatter())\n",
    "xlabel = ax1.set_xlabel(r'${\\rm cosmic\\ time\\ [Gyr]}$')\n",
    "ylabel = ax0.set_ylabel(r'$M_{\\rm peak}\\ [M_{\\odot}]$')\n",
    "ylabel = ax1.set_ylabel(r'${\\rm d}M_{\\rm peak}/{\\rm d}t\\ [M_{\\odot}/{\\rm yr}]$')\n",
    "\n",
    "red_line=mlines.Line2D([],[],ls='-',c=mred,label=r'$M_{\\rm halo}=10^{14.5}M_{\\odot}$')\n",
    "blue_line=mlines.Line2D([],[],ls='-',c=mblue,label=r'$M_{\\rm halo}=10^{11.5}M_{\\odot}$')\n",
    "first_legend=ax0.legend(handles=[red_line, blue_line], fontsize=17)\n",
    "\n",
    "fig.savefig('nbody_target_data/average_assembly_target_data.png', \n",
    "            bbox_extra_artists=[xlabel, ylabel], bbox_inches='tight', dpi=200)"
   ]
  },
  {
   "cell_type": "code",
   "execution_count": null,
   "id": "abstract-manner",
   "metadata": {},
   "outputs": [],
   "source": []
  },
  {
   "cell_type": "code",
   "execution_count": null,
   "id": "persistent-separate",
   "metadata": {},
   "outputs": [],
   "source": []
  }
 ],
 "metadata": {
  "kernelspec": {
   "display_name": "Python 3",
   "language": "python",
   "name": "python3"
  },
  "language_info": {
   "codemirror_mode": {
    "name": "ipython",
    "version": 3
   },
   "file_extension": ".py",
   "mimetype": "text/x-python",
   "name": "python",
   "nbconvert_exporter": "python",
   "pygments_lexer": "ipython3",
   "version": "3.8.8"
  }
 },
 "nbformat": 4,
 "nbformat_minor": 5
}
