{
 "cells": [
  {
   "cell_type": "code",
   "execution_count": 1,
   "metadata": {},
   "outputs": [],
   "source": [
    "%matplotlib inline"
   ]
  },
  {
   "cell_type": "code",
   "execution_count": 2,
   "metadata": {},
   "outputs": [
    {
     "name": "stdout",
     "output_type": "stream",
     "text": [
      "['log_mah_dm', 'log_mah_sm', 'log_mah_gm', 'log_mah_tot', 'tpeak_dm', 'tpeak_sm', 'tpeak_bm', 'sfrh', 'baryon_mass_frac', 'frac_gas', 'original_order', 'tmp', 'logmp', 'dmhdt_x0', 'dmhdt_k', 'dmhdt_early_index', 'dmhdt_late_index', 'sfr_eff_m_0', 'sfr_eff_m_z', 'sfr_eff_beta_0', 'sfr_eff_beta_z', 'sfr_eff_gamma_0', 'sfr_eff_lgeps_n0', 'sfr_eff_lgeps_nz', 'qtime', 'qseverity', 'loss', 'log_ssfr_target', 'log_smh_target', 'log_sfr_target', 'dm_tot_dt_target', 'dmg_dt_target', 'log_mah_fit', 'log_dmhdt_fit', 'log_smh_fit', 'log_ssfr_fit', 'log_sfr_fit', 'log_sfr_fit_noq', 'log_smh_fit_noq', 'fstar_fit', 'fstar_target', 'epsilon_target', 'epsilon_dm_target', 'epsilon_dm_fit', 'epsilon_fbtrue_fit', 'epsilon_ms_dm_fit', 'epsilon_ms_fbtrue_fit', 'dlogsm_quenching']\n"
     ]
    }
   ],
   "source": [
    "from astropy.table import Table\n",
    "from astropy.cosmology import Planck15\n",
    "\n",
    "tng = Table.read('/Users/aphearin/work/random/1001/moster_sfh_fitter/tmp.h5', path='data')\n",
    "\n",
    "fn = \"/Users/aphearin/work/DATA/MOCKS/TNG/data_fits_for_andrew/tng/tn_cosmic_time.npy\"\n",
    "ntimes = tng['log_mah_sm'].shape[1]\n",
    "tng_t = np.load(fn)[100-ntimes:]\n",
    "lgt = np.log10(tng_t)\n",
    "print(tng.keys())\n",
    "\n",
    "_ztable = np.linspace(15, 0, 500)\n",
    "_ttable = Planck15.age(_ztable).value\n",
    "tng_z = np.interp(tng_t, _ttable, _ztable)"
   ]
  },
  {
   "cell_type": "code",
   "execution_count": null,
   "metadata": {},
   "outputs": [],
   "source": []
  },
  {
   "cell_type": "code",
   "execution_count": 3,
   "metadata": {},
   "outputs": [
    {
     "data": {
      "image/png": "[encoded data removed]",
      "text/plain": [
       "<Figure size 432x288 with 1 Axes>"
      ]
     },
     "metadata": {
      "needs_background": "light"
     },
     "output_type": "display_data"
    }
   ],
   "source": [
    "from scipy.stats import binned_statistic\n",
    "logmp_bins = np.linspace(11, 15, 40)\n",
    "logmp_binmids = 0.5*(logmp_bins[:-1] + logmp_bins[1:])\n",
    "\n",
    "from astropy.cosmology import Planck15\n",
    "ttest = Planck15.age((4, 2, 1, 0.5, 0)).value\n",
    "itest = tng_z.size - 1 - np.searchsorted(tng_z[::-1], (4, 2, 1, 0.5, 0))\n",
    "\n",
    "res = np.zeros((logmp_binmids.size, ttest.size))\n",
    "for i, it in enumerate(itest):\n",
    "    msk = tng['log_mah_sm'][:, it] > 0\n",
    "\n",
    "    mean_mstar, __, __ = binned_statistic(\n",
    "        tng['log_mah_tot'][:, it], 10**tng['log_mah_sm'][:, it], bins=logmp_bins)\n",
    "    res[:, i] = np.log10(mean_mstar)\n",
    "\n",
    "fig, ax = plt.subplots(1, 1)\n",
    "\n",
    "__=ax.plot(logmp_binmids, res[:, 0], color=mred)\n",
    "__=ax.plot(logmp_binmids, res[:, 1], color=morange)\n",
    "__=ax.plot(logmp_binmids, res[:, 2], color=mgreen)\n",
    "__=ax.plot(logmp_binmids, res[:, 3], color=mblue)"
   ]
  },
  {
   "cell_type": "code",
   "execution_count": null,
   "metadata": {},
   "outputs": [],
   "source": []
  },
  {
   "cell_type": "code",
   "execution_count": 10,
   "metadata": {},
   "outputs": [],
   "source": [
    "mpat = \"tng_logmp_z{0:.1f}.dat\"\n",
    "smpat = \"tng_logsm_z{0:.1f}.dat\"\n",
    "\n",
    "for i, it in enumerate(itest):\n",
    "    zt = tng_z[it]\n",
    "    msk = np.isfinite(res[:, i])\n",
    "    msave = logmp_binmids[msk]\n",
    "    smsave = res[:, i][msk]\n",
    "    np.savetxt(mpat.format(zt), msave)\n",
    "    np.savetxt(smpat.format(zt), smsave)\n"
   ]
  },
  {
   "cell_type": "code",
   "execution_count": null,
   "metadata": {},
   "outputs": [],
   "source": []
  },
  {
   "cell_type": "code",
   "execution_count": null,
   "metadata": {},
   "outputs": [],
   "source": []
  },
  {
   "cell_type": "code",
   "execution_count": null,
   "metadata": {},
   "outputs": [],
   "source": []
  },
  {
   "cell_type": "code",
   "execution_count": null,
   "metadata": {},
   "outputs": [],
   "source": []
  }
 ],
 "metadata": {
  "kernelspec": {
   "display_name": "Python 3",
   "language": "python",
   "name": "python3"
  },
  "language_info": {
   "codemirror_mode": {
    "name": "ipython",
    "version": 3
   },
   "file_extension": ".py",
   "mimetype": "text/x-python",
   "name": "python",
   "nbconvert_exporter": "python",
   "pygments_lexer": "ipython3",
   "version": "3.7.6"
  }
 },
 "nbformat": 4,
 "nbformat_minor": 4
}
