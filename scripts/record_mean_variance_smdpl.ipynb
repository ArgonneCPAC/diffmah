{
 "cells": [
  {
   "cell_type": "code",
   "execution_count": null,
   "id": "dce29043-05db-49e0-bdac-2264f97bd85d",
   "metadata": {},
   "outputs": [],
   "source": [
    "import smdpl_diffmahpop_utils as smah_utils\n",
    "import os\n",
    "mah_params_drn = \"/Users/aphearin/work/DATA/diffmahpop_data/NM_12_NT_9_ISTART_0_IEND_576\"\n",
    "fnout_cens = os.path.join(mah_params_drn, \"mean_var_cens.h5\")\n",
    "fnout_sats = os.path.join(mah_params_drn, \"mean_var_sats.h5\")\n",
    "\n",
    "smah_utils.write_mean_variance_to_disk(mah_params_drn, fnout_cens, fnout_sats)"
   ]
  },
  {
   "cell_type": "code",
   "execution_count": null,
   "id": "37e5a6fb-1664-4d68-96f1-290900a87ad2",
   "metadata": {},
   "outputs": [],
   "source": [
    "# _res = smah_utils.load_diffmah_subvolume(0,\n",
    "#     diffmah_drn=smah_utils.TASSO_DIFFMAH_DRN, \n",
    "#     sfhcat_drn=smah_utils.TASSO_SFHCAT_DRN)\n",
    "# diffmah_data, mah_params, t_peak, upidh = _res\n",
    "# mah_params.logm0.shape"
   ]
  },
  {
   "cell_type": "code",
   "execution_count": null,
   "id": "729162a2-4527-4f93-bcd2-f1aa288f26b3",
   "metadata": {},
   "outputs": [],
   "source": []
  },
  {
   "cell_type": "code",
   "execution_count": null,
   "id": "36f47eff-c0d3-4cee-825e-5a1efdcd3ef1",
   "metadata": {},
   "outputs": [],
   "source": []
  },
  {
   "cell_type": "code",
   "execution_count": null,
   "id": "b6c7d63a-58a7-425c-82ae-2c0d2af3fa8d",
   "metadata": {},
   "outputs": [],
   "source": []
  },
  {
   "cell_type": "code",
   "execution_count": null,
   "id": "b9695bc3-4e9b-4a6c-8a4f-951a0c39c7d4",
   "metadata": {},
   "outputs": [],
   "source": []
  }
 ],
 "metadata": {
  "kernelspec": {
   "display_name": "Python 3 (ipykernel)",
   "language": "python",
   "name": "python3"
  },
  "language_info": {
   "codemirror_mode": {
    "name": "ipython",
    "version": 3
   },
   "file_extension": ".py",
   "mimetype": "text/x-python",
   "name": "python",
   "nbconvert_exporter": "python",
   "pygments_lexer": "ipython3",
   "version": "3.12.5"
  }
 },
 "nbformat": 4,
 "nbformat_minor": 5
}
